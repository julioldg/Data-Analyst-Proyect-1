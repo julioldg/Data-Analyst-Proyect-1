{
 "cells": [
  {
   "cell_type": "markdown",
   "id": "0f320435",
   "metadata": {},
   "source": [
    "# Model Development\n",
    "\n",
    "Model = Mathematical equation used to predict a value given one or more other values\n",
    "\n",
    "Relating 1 or more independent variables to dependent variables\n",
    "\n",
    "## Linear regression and Multiple linear Regression\n",
    "\n",
    "Linear regression will refer to one independent variable to make a prediction \n",
    "\n",
    "Multiple will refer to multiple independent variables\n",
    "\n",
    "### Linear regression\n",
    "1) Predictor (Independent) variable -x\n",
    "2) Target (Dependent) variable -y\n",
    "\n",
    "y = b₀ + b₁x\n",
    "b₀: Intercept\n",
    "b₁: Slope\n",
    "\n"
   ]
  },
  {
   "cell_type": "code",
   "execution_count": 136,
   "id": "ac11c84f",
   "metadata": {},
   "outputs": [
    {
     "name": "stdout",
     "output_type": "stream",
     "text": [
      "<class 'pandas.core.frame.DataFrame'>\n",
      "Int64Index: 201 entries, 0 to 204\n",
      "Data columns (total 26 columns):\n",
      " #   Column             Non-Null Count  Dtype  \n",
      "---  ------             --------------  -----  \n",
      " 0   symboling          201 non-null    int64  \n",
      " 1   normalized-losses  201 non-null    object \n",
      " 2   make               201 non-null    object \n",
      " 3   fuel-type          201 non-null    object \n",
      " 4   aspiration         201 non-null    object \n",
      " 5   num-of-doors       201 non-null    object \n",
      " 6   body-style         201 non-null    object \n",
      " 7   drive-wheels       201 non-null    object \n",
      " 8   engine-location    201 non-null    object \n",
      " 9   wheel-base         201 non-null    float64\n",
      " 10  length             201 non-null    float64\n",
      " 11  width              201 non-null    float64\n",
      " 12  height             201 non-null    float64\n",
      " 13  curb-weight        201 non-null    int64  \n",
      " 14  engine-type        201 non-null    object \n",
      " 15  num-of-cylinders   201 non-null    object \n",
      " 16  engine-size        201 non-null    int64  \n",
      " 17  fuel-system        201 non-null    object \n",
      " 18  bore               201 non-null    object \n",
      " 19  stroke             201 non-null    object \n",
      " 20  compression-ratio  201 non-null    float64\n",
      " 21  horsepower         201 non-null    object \n",
      " 22  peak-rpm           201 non-null    object \n",
      " 23  city-mpg           201 non-null    int64  \n",
      " 24  highway-mpg        201 non-null    int64  \n",
      " 25  price              201 non-null    float64\n",
      "dtypes: float64(6), int64(5), object(15)\n",
      "memory usage: 42.4+ KB\n",
      "None\n"
     ]
    }
   ],
   "source": [
    "import pandas as pd\n",
    "\n",
    "path = \"https://cf-courses-data.s3.us.cloud-object-storage.appdomain.cloud/IBMDeveloperSkillsNetwork-DA0101EN-SkillsNetwork/labs/Data%20files/auto.csv\"\n",
    "\n",
    "df = pd.read_csv(path, header = None)\n",
    "\n",
    "headers = [\"symboling\",\"normalized-losses\",\"make\",\"fuel-type\",\"aspiration\", \"num-of-doors\",\"body-style\",\n",
    "           \"drive-wheels\",\"engine-location\",\"wheel-base\", \"length\",\"width\",\"height\",\"curb-weight\",\"engine-type\",\n",
    "           \"num-of-cylinders\", \"engine-size\",\"fuel-system\",\"bore\",\"stroke\",\"compression-ratio\",\"horsepower\",\n",
    "           \"peak-rpm\",\"city-mpg\",\"highway-mpg\",\"price\"]\n",
    "\n",
    "df.columns = headers\n",
    "\n",
    "df[\"price\"] = pd.to_numeric(df[\"price\"], errors=\"coerce\")\n",
    "\n",
    "df.dropna(subset = [\"price\"], axis = 0, inplace = True)\n",
    "\n",
    "df.dropna(subset = [\"highway-mpg\"], axis = 0, inplace = True)\n",
    "\n",
    "\n",
    "print(df.info())\n"
   ]
  },
  {
   "cell_type": "code",
   "execution_count": 137,
   "id": "4b95dab7",
   "metadata": {},
   "outputs": [],
   "source": [
    "from sklearn.linear_model import LinearRegression\n",
    "\n",
    "lm = LinearRegression()\n",
    "\n",
    "X = df[[\"highway-mpg\"]]\n",
    "\n",
    "Y = df[\"price\"]\n",
    "\n"
   ]
  },
  {
   "cell_type": "markdown",
   "id": "22f6b49f",
   "metadata": {},
   "source": [
    "Then we use lm.fit(X,Y) to fit the model \n",
    "\n"
   ]
  },
  {
   "cell_type": "code",
   "execution_count": 138,
   "id": "87673f56",
   "metadata": {},
   "outputs": [
    {
     "data": {
      "text/html": [
       "<style>#sk-container-id-14 {color: black;background-color: white;}#sk-container-id-14 pre{padding: 0;}#sk-container-id-14 div.sk-toggleable {background-color: white;}#sk-container-id-14 label.sk-toggleable__label {cursor: pointer;display: block;width: 100%;margin-bottom: 0;padding: 0.3em;box-sizing: border-box;text-align: center;}#sk-container-id-14 label.sk-toggleable__label-arrow:before {content: \"▸\";float: left;margin-right: 0.25em;color: #696969;}#sk-container-id-14 label.sk-toggleable__label-arrow:hover:before {color: black;}#sk-container-id-14 div.sk-estimator:hover label.sk-toggleable__label-arrow:before {color: black;}#sk-container-id-14 div.sk-toggleable__content {max-height: 0;max-width: 0;overflow: hidden;text-align: left;background-color: #f0f8ff;}#sk-container-id-14 div.sk-toggleable__content pre {margin: 0.2em;color: black;border-radius: 0.25em;background-color: #f0f8ff;}#sk-container-id-14 input.sk-toggleable__control:checked~div.sk-toggleable__content {max-height: 200px;max-width: 100%;overflow: auto;}#sk-container-id-14 input.sk-toggleable__control:checked~label.sk-toggleable__label-arrow:before {content: \"▾\";}#sk-container-id-14 div.sk-estimator input.sk-toggleable__control:checked~label.sk-toggleable__label {background-color: #d4ebff;}#sk-container-id-14 div.sk-label input.sk-toggleable__control:checked~label.sk-toggleable__label {background-color: #d4ebff;}#sk-container-id-14 input.sk-hidden--visually {border: 0;clip: rect(1px 1px 1px 1px);clip: rect(1px, 1px, 1px, 1px);height: 1px;margin: -1px;overflow: hidden;padding: 0;position: absolute;width: 1px;}#sk-container-id-14 div.sk-estimator {font-family: monospace;background-color: #f0f8ff;border: 1px dotted black;border-radius: 0.25em;box-sizing: border-box;margin-bottom: 0.5em;}#sk-container-id-14 div.sk-estimator:hover {background-color: #d4ebff;}#sk-container-id-14 div.sk-parallel-item::after {content: \"\";width: 100%;border-bottom: 1px solid gray;flex-grow: 1;}#sk-container-id-14 div.sk-label:hover label.sk-toggleable__label {background-color: #d4ebff;}#sk-container-id-14 div.sk-serial::before {content: \"\";position: absolute;border-left: 1px solid gray;box-sizing: border-box;top: 0;bottom: 0;left: 50%;z-index: 0;}#sk-container-id-14 div.sk-serial {display: flex;flex-direction: column;align-items: center;background-color: white;padding-right: 0.2em;padding-left: 0.2em;position: relative;}#sk-container-id-14 div.sk-item {position: relative;z-index: 1;}#sk-container-id-14 div.sk-parallel {display: flex;align-items: stretch;justify-content: center;background-color: white;position: relative;}#sk-container-id-14 div.sk-item::before, #sk-container-id-14 div.sk-parallel-item::before {content: \"\";position: absolute;border-left: 1px solid gray;box-sizing: border-box;top: 0;bottom: 0;left: 50%;z-index: -1;}#sk-container-id-14 div.sk-parallel-item {display: flex;flex-direction: column;z-index: 1;position: relative;background-color: white;}#sk-container-id-14 div.sk-parallel-item:first-child::after {align-self: flex-end;width: 50%;}#sk-container-id-14 div.sk-parallel-item:last-child::after {align-self: flex-start;width: 50%;}#sk-container-id-14 div.sk-parallel-item:only-child::after {width: 0;}#sk-container-id-14 div.sk-dashed-wrapped {border: 1px dashed gray;margin: 0 0.4em 0.5em 0.4em;box-sizing: border-box;padding-bottom: 0.4em;background-color: white;}#sk-container-id-14 div.sk-label label {font-family: monospace;font-weight: bold;display: inline-block;line-height: 1.2em;}#sk-container-id-14 div.sk-label-container {text-align: center;}#sk-container-id-14 div.sk-container {/* jupyter's `normalize.less` sets `[hidden] { display: none; }` but bootstrap.min.css set `[hidden] { display: none !important; }` so we also need the `!important` here to be able to override the default hidden behavior on the sphinx rendered scikit-learn.org. See: https://github.com/scikit-learn/scikit-learn/issues/21755 */display: inline-block !important;position: relative;}#sk-container-id-14 div.sk-text-repr-fallback {display: none;}</style><div id=\"sk-container-id-14\" class=\"sk-top-container\"><div class=\"sk-text-repr-fallback\"><pre>LinearRegression()</pre><b>In a Jupyter environment, please rerun this cell to show the HTML representation or trust the notebook. <br />On GitHub, the HTML representation is unable to render, please try loading this page with nbviewer.org.</b></div><div class=\"sk-container\" hidden><div class=\"sk-item\"><div class=\"sk-estimator sk-toggleable\"><input class=\"sk-toggleable__control sk-hidden--visually\" id=\"sk-estimator-id-17\" type=\"checkbox\" checked><label for=\"sk-estimator-id-17\" class=\"sk-toggleable__label sk-toggleable__label-arrow\">LinearRegression</label><div class=\"sk-toggleable__content\"><pre>LinearRegression()</pre></div></div></div></div></div>"
      ],
      "text/plain": [
       "LinearRegression()"
      ]
     },
     "execution_count": 138,
     "metadata": {},
     "output_type": "execute_result"
    }
   ],
   "source": [
    "lm.fit(X,Y)"
   ]
  },
  {
   "cell_type": "code",
   "execution_count": 139,
   "id": "8f3755b5",
   "metadata": {},
   "outputs": [
    {
     "name": "stdout",
     "output_type": "stream",
     "text": [
      "38423.3058581574\n",
      "[-821.73337832]\n"
     ]
    }
   ],
   "source": [
    "Yhat = lm.predict(X)\n",
    "\n",
    "b_0 = lm.intercept_\n",
    "\n",
    "print(b_0)\n",
    "\n",
    "b_1 = lm.coef_\n",
    "\n",
    "print(b_1)"
   ]
  },
  {
   "cell_type": "markdown",
   "id": "da665ebf",
   "metadata": {},
   "source": [
    "Price = 38423.31 - 821.73 * highway-mpg\n",
    "\n",
    "### Multiple Linear Regression (MLR)\n",
    "\n",
    "The method is used to explain the relationship between:\n",
    "    + One continous target (Y) variable\n",
    "    + Two or more predictor (X) variables\n",
    "\n",
    "we can extract the 4 predictor variables and store them in th variable Z"
   ]
  },
  {
   "cell_type": "code",
   "execution_count": 141,
   "id": "f78e8be9",
   "metadata": {},
   "outputs": [
    {
     "data": {
      "text/html": [
       "<style>#sk-container-id-15 {color: black;background-color: white;}#sk-container-id-15 pre{padding: 0;}#sk-container-id-15 div.sk-toggleable {background-color: white;}#sk-container-id-15 label.sk-toggleable__label {cursor: pointer;display: block;width: 100%;margin-bottom: 0;padding: 0.3em;box-sizing: border-box;text-align: center;}#sk-container-id-15 label.sk-toggleable__label-arrow:before {content: \"▸\";float: left;margin-right: 0.25em;color: #696969;}#sk-container-id-15 label.sk-toggleable__label-arrow:hover:before {color: black;}#sk-container-id-15 div.sk-estimator:hover label.sk-toggleable__label-arrow:before {color: black;}#sk-container-id-15 div.sk-toggleable__content {max-height: 0;max-width: 0;overflow: hidden;text-align: left;background-color: #f0f8ff;}#sk-container-id-15 div.sk-toggleable__content pre {margin: 0.2em;color: black;border-radius: 0.25em;background-color: #f0f8ff;}#sk-container-id-15 input.sk-toggleable__control:checked~div.sk-toggleable__content {max-height: 200px;max-width: 100%;overflow: auto;}#sk-container-id-15 input.sk-toggleable__control:checked~label.sk-toggleable__label-arrow:before {content: \"▾\";}#sk-container-id-15 div.sk-estimator input.sk-toggleable__control:checked~label.sk-toggleable__label {background-color: #d4ebff;}#sk-container-id-15 div.sk-label input.sk-toggleable__control:checked~label.sk-toggleable__label {background-color: #d4ebff;}#sk-container-id-15 input.sk-hidden--visually {border: 0;clip: rect(1px 1px 1px 1px);clip: rect(1px, 1px, 1px, 1px);height: 1px;margin: -1px;overflow: hidden;padding: 0;position: absolute;width: 1px;}#sk-container-id-15 div.sk-estimator {font-family: monospace;background-color: #f0f8ff;border: 1px dotted black;border-radius: 0.25em;box-sizing: border-box;margin-bottom: 0.5em;}#sk-container-id-15 div.sk-estimator:hover {background-color: #d4ebff;}#sk-container-id-15 div.sk-parallel-item::after {content: \"\";width: 100%;border-bottom: 1px solid gray;flex-grow: 1;}#sk-container-id-15 div.sk-label:hover label.sk-toggleable__label {background-color: #d4ebff;}#sk-container-id-15 div.sk-serial::before {content: \"\";position: absolute;border-left: 1px solid gray;box-sizing: border-box;top: 0;bottom: 0;left: 50%;z-index: 0;}#sk-container-id-15 div.sk-serial {display: flex;flex-direction: column;align-items: center;background-color: white;padding-right: 0.2em;padding-left: 0.2em;position: relative;}#sk-container-id-15 div.sk-item {position: relative;z-index: 1;}#sk-container-id-15 div.sk-parallel {display: flex;align-items: stretch;justify-content: center;background-color: white;position: relative;}#sk-container-id-15 div.sk-item::before, #sk-container-id-15 div.sk-parallel-item::before {content: \"\";position: absolute;border-left: 1px solid gray;box-sizing: border-box;top: 0;bottom: 0;left: 50%;z-index: -1;}#sk-container-id-15 div.sk-parallel-item {display: flex;flex-direction: column;z-index: 1;position: relative;background-color: white;}#sk-container-id-15 div.sk-parallel-item:first-child::after {align-self: flex-end;width: 50%;}#sk-container-id-15 div.sk-parallel-item:last-child::after {align-self: flex-start;width: 50%;}#sk-container-id-15 div.sk-parallel-item:only-child::after {width: 0;}#sk-container-id-15 div.sk-dashed-wrapped {border: 1px dashed gray;margin: 0 0.4em 0.5em 0.4em;box-sizing: border-box;padding-bottom: 0.4em;background-color: white;}#sk-container-id-15 div.sk-label label {font-family: monospace;font-weight: bold;display: inline-block;line-height: 1.2em;}#sk-container-id-15 div.sk-label-container {text-align: center;}#sk-container-id-15 div.sk-container {/* jupyter's `normalize.less` sets `[hidden] { display: none; }` but bootstrap.min.css set `[hidden] { display: none !important; }` so we also need the `!important` here to be able to override the default hidden behavior on the sphinx rendered scikit-learn.org. See: https://github.com/scikit-learn/scikit-learn/issues/21755 */display: inline-block !important;position: relative;}#sk-container-id-15 div.sk-text-repr-fallback {display: none;}</style><div id=\"sk-container-id-15\" class=\"sk-top-container\"><div class=\"sk-text-repr-fallback\"><pre>LinearRegression()</pre><b>In a Jupyter environment, please rerun this cell to show the HTML representation or trust the notebook. <br />On GitHub, the HTML representation is unable to render, please try loading this page with nbviewer.org.</b></div><div class=\"sk-container\" hidden><div class=\"sk-item\"><div class=\"sk-estimator sk-toggleable\"><input class=\"sk-toggleable__control sk-hidden--visually\" id=\"sk-estimator-id-18\" type=\"checkbox\" checked><label for=\"sk-estimator-id-18\" class=\"sk-toggleable__label sk-toggleable__label-arrow\">LinearRegression</label><div class=\"sk-toggleable__content\"><pre>LinearRegression()</pre></div></div></div></div></div>"
      ],
      "text/plain": [
       "LinearRegression()"
      ]
     },
     "execution_count": 141,
     "metadata": {},
     "output_type": "execute_result"
    }
   ],
   "source": [
    "\n",
    "df.dropna(subset = [\"horsepower\"], axis = 0, inplace = True)\n",
    "\n",
    "df[\"horsepower\"] = pd.to_numeric(df[\"horsepower\"], errors=\"coerce\")\n",
    "\n",
    "df.dropna(subset = [\"curb-weight\"], axis = 0, inplace = True)\n",
    "\n",
    "df[\"engine-size\"] = pd.to_numeric(df[\"engine-size\"], errors=\"coerce\")\n",
    "\n",
    "df.dropna(subset = [\"engine-size\"], axis = 0, inplace = True)\n",
    "\n",
    "\n",
    "Z = df[[\"horsepower\",\"curb-weight\", \"engine-size\", \"highway-mpg\"]]\n",
    "\n",
    "\n",
    "lm.fit(Z, df[\"price\"])"
   ]
  },
  {
   "cell_type": "code",
   "execution_count": 142,
   "id": "034f4d80",
   "metadata": {},
   "outputs": [
    {
     "name": "stdout",
     "output_type": "stream",
     "text": [
      "-15700.573979039304\n",
      "[53.27878556  4.66217408 82.22948394 35.5175845 ]\n"
     ]
    }
   ],
   "source": [
    "Yhat = lm.predict(Z)\n",
    "\n",
    "print(lm.intercept_)\n",
    "\n",
    "print(lm.coef_)"
   ]
  },
  {
   "cell_type": "markdown",
   "id": "db7de5b3",
   "metadata": {},
   "source": [
    "## Model evaluation using Visualization"
   ]
  },
  {
   "cell_type": "markdown",
   "id": "7bbb6968",
   "metadata": {},
   "source": [
    "### Regression Plot\n",
    "Relationship 2 variables\n",
    "Stength of the correlation\n",
    "Direction of the relationship\n",
    "It shows a combination of:\n",
    "+ scatterplot Where each point represents a different y\n",
    "+ Fitted linear regression line\n"
   ]
  },
  {
   "cell_type": "code",
   "execution_count": 116,
   "id": "cd90a0df",
   "metadata": {},
   "outputs": [
    {
     "data": {
      "text/plain": [
       "(0.0, 48175.745048325574)"
      ]
     },
     "execution_count": 116,
     "metadata": {},
     "output_type": "execute_result"
    },
    {
     "data": {
      "image/png": "[encoded data removed]",
      "text/plain": [
       "<Figure size 640x480 with 1 Axes>"
      ]
     },
     "metadata": {},
     "output_type": "display_data"
    }
   ],
   "source": [
    "import seaborn as sns\n",
    "import matplotlib.pyplot as plt\n",
    "\n",
    "sns.regplot(x = \"highway-mpg\",\n",
    "            y = \"price\",\n",
    "            data = df)\n",
    "plt.ylim(0,)"
   ]
  },
  {
   "cell_type": "code",
   "execution_count": 117,
   "id": "a316f13f",
   "metadata": {},
   "outputs": [
    {
     "data": {
      "text/plain": [
       "<Axes: xlabel='highway-mpg', ylabel='price'>"
      ]
     },
     "execution_count": 117,
     "metadata": {},
     "output_type": "execute_result"
    },
    {
     "data": {
      "image/png": "[encoded data removed]",
      "text/plain": [
       "<Figure size 640x480 with 1 Axes>"
      ]
     },
     "metadata": {},
     "output_type": "display_data"
    }
   ],
   "source": [
    "import seaborn as sns\n",
    "\n",
    "sns.residplot(x = df[\"highway-mpg\"], y = df[\"price\"])"
   ]
  },
  {
   "cell_type": "markdown",
   "id": "424870a1",
   "metadata": {},
   "source": [
    "### Distribution plot\n",
    "A distribution plot is a graphical visualization that shows the distribution of a variable. It is commonly used to examine the shape of a distribution, identify outliers, and observe data patterns. "
   ]
  },
  {
   "cell_type": "code",
   "execution_count": 118,
   "id": "94ecb86b",
   "metadata": {},
   "outputs": [
    {
     "data": {
      "image/png": "[encoded data removed]",
      "text/plain": [
       "<Figure size 640x480 with 1 Axes>"
      ]
     },
     "metadata": {},
     "output_type": "display_data"
    }
   ],
   "source": [
    "ax1 = sns.kdeplot(data=df[\"price\"], color=\"r\", label=\"Actual value\")\n",
    "\n",
    "ax1 = sns.kdeplot(Yhat, color=\"b\", label=\"Fitted Values\")\n",
    "# Yhat hace referencia a la predicción del precio"
   ]
  },
  {
   "cell_type": "markdown",
   "id": "e48725c3",
   "metadata": {},
   "source": [
    "No llega a ser un buen modelo de prediccón sobretodo para los precios por encima de 30000"
   ]
  },
  {
   "cell_type": "code",
   "execution_count": 119,
   "id": "912bc528",
   "metadata": {},
   "outputs": [
    {
     "data": {
      "text/plain": [
       "<Axes: xlabel='price', ylabel='Count'>"
      ]
     },
     "execution_count": 119,
     "metadata": {},
     "output_type": "execute_result"
    },
    {
     "data": {
      "image/png": "[encoded data removed]",
      "text/plain": [
       "<Figure size 640x480 with 1 Axes>"
      ]
     },
     "metadata": {},
     "output_type": "display_data"
    }
   ],
   "source": [
    "sns.histplot(data=df, x=\"price\", color=\"r\", label=\"Actual value\")\n"
   ]
  },
  {
   "cell_type": "markdown",
   "id": "9b29953c",
   "metadata": {},
   "source": [
    "## Polynomial regression and pipelines\n",
    "Polynomial regression\n",
    "\n",
    "Special case of the general regression model \n",
    "Describe curvilinear relationships\n",
    "\n",
    "### Quadratic 2nd order\n",
    "y = β0 + β1x + β2x^2\n",
    "\n",
    "### Cubic 3 order\n",
    "y = β0 + β1x + β2x^2 + β3x^3\n",
    "\n",
    "f = np.polyfit(x,y,3)\n",
    "p = np.poly1d(f)"
   ]
  },
  {
   "cell_type": "code",
   "execution_count": 120,
   "id": "d70ff6e9",
   "metadata": {},
   "outputs": [
    {
     "name": "stdout",
     "output_type": "stream",
     "text": [
      "        3         2\n",
      "-1.553 x + 204.3 x - 8948 x + 1.377e+05\n"
     ]
    }
   ],
   "source": [
    "X = df[\"highway-mpg\"].values\n",
    "\n",
    "Y = df[\"price\"]\n",
    "\n",
    "import numpy as np\n",
    "\n",
    "f = np.polyfit(X,Y,3)\n",
    "p = np.poly1d(f)\n",
    "\n",
    "print(p)"
   ]
  },
  {
   "cell_type": "markdown",
   "id": "5007a592",
   "metadata": {},
   "source": [
    "## Polynomial regression\n",
    "\n",
    "We can also hace multidimensional polynomial regression\n",
    "\n",
    "The preprocessing library scikit-learn "
   ]
  },
  {
   "cell_type": "code",
   "execution_count": 121,
   "id": "fda634ee",
   "metadata": {},
   "outputs": [
    {
     "name": "stdout",
     "output_type": "stream",
     "text": [
      "[[1.1100000e+02 2.5480000e+03 1.2321000e+04 2.8282800e+05 6.4923040e+06]\n",
      " [1.1100000e+02 2.5480000e+03 1.2321000e+04 2.8282800e+05 6.4923040e+06]\n",
      " [1.5400000e+02 2.8230000e+03 2.3716000e+04 4.3474200e+05 7.9693290e+06]\n",
      " [1.0200000e+02 2.3370000e+03 1.0404000e+04 2.3837400e+05 5.4615690e+06]\n",
      " [1.1500000e+02 2.8240000e+03 1.3225000e+04 3.2476000e+05 7.9749760e+06]\n",
      " [1.1000000e+02 2.5070000e+03 1.2100000e+04 2.7577000e+05 6.2850490e+06]\n",
      " [1.1000000e+02 2.8440000e+03 1.2100000e+04 3.1284000e+05 8.0883360e+06]\n",
      " [1.1000000e+02 2.9540000e+03 1.2100000e+04 3.2494000e+05 8.7261160e+06]\n",
      " [1.4000000e+02 3.0860000e+03 1.9600000e+04 4.3204000e+05 9.5233960e+06]\n",
      " [1.0100000e+02 2.3950000e+03 1.0201000e+04 2.4189500e+05 5.7360250e+06]\n",
      " [1.0100000e+02 2.3950000e+03 1.0201000e+04 2.4189500e+05 5.7360250e+06]\n",
      " [1.2100000e+02 2.7100000e+03 1.4641000e+04 3.2791000e+05 7.3441000e+06]\n",
      " [1.2100000e+02 2.7650000e+03 1.4641000e+04 3.3456500e+05 7.6452250e+06]\n",
      " [1.2100000e+02 3.0550000e+03 1.4641000e+04 3.6965500e+05 9.3330250e+06]\n",
      " [1.8200000e+02 3.2300000e+03 3.3124000e+04 5.8786000e+05 1.0432900e+07]\n",
      " [1.8200000e+02 3.3800000e+03 3.3124000e+04 6.1516000e+05 1.1424400e+07]\n",
      " [1.8200000e+02 3.5050000e+03 3.3124000e+04 6.3791000e+05 1.2285025e+07]\n",
      " [4.8000000e+01 1.4880000e+03 2.3040000e+03 7.1424000e+04 2.2141440e+06]\n",
      " [7.0000000e+01 1.8740000e+03 4.9000000e+03 1.3118000e+05 3.5118760e+06]\n",
      " [7.0000000e+01 1.9090000e+03 4.9000000e+03 1.3363000e+05 3.6442810e+06]\n",
      " [6.8000000e+01 1.8760000e+03 4.6240000e+03 1.2756800e+05 3.5193760e+06]\n",
      " [6.8000000e+01 1.8760000e+03 4.6240000e+03 1.2756800e+05 3.5193760e+06]\n",
      " [1.0200000e+02 2.1280000e+03 1.0404000e+04 2.1705600e+05 4.5283840e+06]\n",
      " [6.8000000e+01 1.9670000e+03 4.6240000e+03 1.3375600e+05 3.8690890e+06]\n",
      " [6.8000000e+01 1.9890000e+03 4.6240000e+03 1.3525200e+05 3.9561210e+06]\n",
      " [6.8000000e+01 1.9890000e+03 4.6240000e+03 1.3525200e+05 3.9561210e+06]\n",
      " [1.0200000e+02 2.1910000e+03 1.0404000e+04 2.2348200e+05 4.8004810e+06]\n",
      " [8.8000000e+01 2.5350000e+03 7.7440000e+03 2.2308000e+05 6.4262250e+06]\n",
      " [1.4500000e+02 2.8110000e+03 2.1025000e+04 4.0759500e+05 7.9017210e+06]\n",
      " [5.8000000e+01 1.7130000e+03 3.3640000e+03 9.9354000e+04 2.9343690e+06]\n",
      " [7.6000000e+01 1.8190000e+03 5.7760000e+03 1.3824400e+05 3.3087610e+06]\n",
      " [6.0000000e+01 1.8370000e+03 3.6000000e+03 1.1022000e+05 3.3745690e+06]\n",
      " [7.6000000e+01 1.9400000e+03 5.7760000e+03 1.4744000e+05 3.7636000e+06]\n",
      " [7.6000000e+01 1.9560000e+03 5.7760000e+03 1.4865600e+05 3.8259360e+06]\n",
      " [7.6000000e+01 2.0100000e+03 5.7760000e+03 1.5276000e+05 4.0401000e+06]\n",
      " [7.6000000e+01 2.0240000e+03 5.7760000e+03 1.5382400e+05 4.0965760e+06]\n",
      " [8.6000000e+01 2.2360000e+03 7.3960000e+03 1.9229600e+05 4.9996960e+06]\n",
      " [8.6000000e+01 2.2890000e+03 7.3960000e+03 1.9685400e+05 5.2395210e+06]\n",
      " [8.6000000e+01 2.3040000e+03 7.3960000e+03 1.9814400e+05 5.3084160e+06]\n",
      " [8.6000000e+01 2.3720000e+03 7.3960000e+03 2.0399200e+05 5.6263840e+06]\n",
      " [1.0100000e+02 2.4650000e+03 1.0201000e+04 2.4896500e+05 6.0762250e+06]\n",
      " [1.0000000e+02 2.2930000e+03 1.0000000e+04 2.2930000e+05 5.2578490e+06]\n",
      " [7.8000000e+01 2.3370000e+03 6.0840000e+03 1.8228600e+05 5.4615690e+06]\n",
      " [9.0000000e+01 2.7340000e+03 8.1000000e+03 2.4606000e+05 7.4747560e+06]\n",
      " [1.7600000e+02 4.0660000e+03 3.0976000e+04 7.1561600e+05 1.6532356e+07]\n",
      " [1.7600000e+02 4.0660000e+03 3.0976000e+04 7.1561600e+05 1.6532356e+07]\n",
      " [2.6200000e+02 3.9500000e+03 6.8644000e+04 1.0349000e+06 1.5602500e+07]\n",
      " [6.8000000e+01 1.8900000e+03 4.6240000e+03 1.2852000e+05 3.5721000e+06]\n",
      " [6.8000000e+01 1.9000000e+03 4.6240000e+03 1.2920000e+05 3.6100000e+06]\n",
      " [6.8000000e+01 1.9050000e+03 4.6240000e+03 1.2954000e+05 3.6290250e+06]\n",
      " [6.8000000e+01 1.9450000e+03 4.6240000e+03 1.3226000e+05 3.7830250e+06]\n",
      " [6.8000000e+01 1.9500000e+03 4.6240000e+03 1.3260000e+05 3.8025000e+06]\n",
      " [1.0100000e+02 2.3800000e+03 1.0201000e+04 2.4038000e+05 5.6644000e+06]\n",
      " [1.0100000e+02 2.3800000e+03 1.0201000e+04 2.4038000e+05 5.6644000e+06]\n",
      " [1.0100000e+02 2.3850000e+03 1.0201000e+04 2.4088500e+05 5.6882250e+06]\n",
      " [1.3500000e+02 2.5000000e+03 1.8225000e+04 3.3750000e+05 6.2500000e+06]\n",
      " [8.4000000e+01 2.3850000e+03 7.0560000e+03 2.0034000e+05 5.6882250e+06]\n",
      " [8.4000000e+01 2.4100000e+03 7.0560000e+03 2.0244000e+05 5.8081000e+06]\n",
      " [8.4000000e+01 2.3850000e+03 7.0560000e+03 2.0034000e+05 5.6882250e+06]\n",
      " [8.4000000e+01 2.4100000e+03 7.0560000e+03 2.0244000e+05 5.8081000e+06]\n",
      " [6.4000000e+01 2.4430000e+03 4.0960000e+03 1.5635200e+05 5.9682490e+06]\n",
      " [8.4000000e+01 2.4250000e+03 7.0560000e+03 2.0370000e+05 5.8806250e+06]\n",
      " [1.2000000e+02 2.6700000e+03 1.4400000e+04 3.2040000e+05 7.1289000e+06]\n",
      " [7.2000000e+01 2.7000000e+03 5.1840000e+03 1.9440000e+05 7.2900000e+06]\n",
      " [1.2300000e+02 3.5150000e+03 1.5129000e+04 4.3234500e+05 1.2355225e+07]\n",
      " [1.2300000e+02 3.7500000e+03 1.5129000e+04 4.6125000e+05 1.4062500e+07]\n",
      " [1.2300000e+02 3.4950000e+03 1.5129000e+04 4.2988500e+05 1.2215025e+07]\n",
      " [1.2300000e+02 3.7700000e+03 1.5129000e+04 4.6371000e+05 1.4212900e+07]\n",
      " [1.5500000e+02 3.7400000e+03 2.4025000e+04 5.7970000e+05 1.3987600e+07]\n",
      " [1.5500000e+02 3.6850000e+03 2.4025000e+04 5.7117500e+05 1.3579225e+07]\n",
      " [1.8400000e+02 3.9000000e+03 3.3856000e+04 7.1760000e+05 1.5210000e+07]\n",
      " [1.8400000e+02 3.7150000e+03 3.3856000e+04 6.8356000e+05 1.3801225e+07]\n",
      " [1.7500000e+02 2.9100000e+03 3.0625000e+04 5.0925000e+05 8.4681000e+06]\n",
      " [6.8000000e+01 1.9180000e+03 4.6240000e+03 1.3042400e+05 3.6787240e+06]\n",
      " [6.8000000e+01 1.9440000e+03 4.6240000e+03 1.3219200e+05 3.7791360e+06]\n",
      " [6.8000000e+01 2.0040000e+03 4.6240000e+03 1.3627200e+05 4.0160160e+06]\n",
      " [1.0200000e+02 2.1450000e+03 1.0404000e+04 2.1879000e+05 4.6010250e+06]\n",
      " [1.1600000e+02 2.3700000e+03 1.3456000e+04 2.7492000e+05 5.6169000e+06]\n",
      " [8.8000000e+01 2.3280000e+03 7.7440000e+03 2.0486400e+05 5.4195840e+06]\n",
      " [1.4500000e+02 2.8330000e+03 2.1025000e+04 4.1078500e+05 8.0258890e+06]\n",
      " [1.4500000e+02 2.9210000e+03 2.1025000e+04 4.2354500e+05 8.5322410e+06]\n",
      " [1.4500000e+02 2.9260000e+03 2.1025000e+04 4.2427000e+05 8.5614760e+06]\n",
      " [8.8000000e+01 2.3650000e+03 7.7440000e+03 2.0812000e+05 5.5932250e+06]\n",
      " [8.8000000e+01 2.4050000e+03 7.7440000e+03 2.1164000e+05 5.7840250e+06]\n",
      " [1.1600000e+02 2.4030000e+03 1.3456000e+04 2.7874800e+05 5.7744090e+06]\n",
      " [1.1600000e+02 2.4030000e+03 1.3456000e+04 2.7874800e+05 5.7744090e+06]\n",
      " [6.9000000e+01 1.8890000e+03 4.7610000e+03 1.3034100e+05 3.5683210e+06]\n",
      " [5.5000000e+01 2.0170000e+03 3.0250000e+03 1.1093500e+05 4.0682890e+06]\n",
      " [6.9000000e+01 1.9180000e+03 4.7610000e+03 1.3234200e+05 3.6787240e+06]\n",
      " [6.9000000e+01 1.9380000e+03 4.7610000e+03 1.3372200e+05 3.7558440e+06]\n",
      " [6.9000000e+01 2.0240000e+03 4.7610000e+03 1.3965600e+05 4.0965760e+06]\n",
      " [6.9000000e+01 1.9510000e+03 4.7610000e+03 1.3461900e+05 3.8064010e+06]\n",
      " [6.9000000e+01 2.0280000e+03 4.7610000e+03 1.3993200e+05 4.1127840e+06]\n",
      " [6.9000000e+01 1.9710000e+03 4.7610000e+03 1.3599900e+05 3.8848410e+06]\n",
      " [6.9000000e+01 2.0370000e+03 4.7610000e+03 1.4055300e+05 4.1493690e+06]\n",
      " [6.9000000e+01 2.0080000e+03 4.7610000e+03 1.3855200e+05 4.0320640e+06]\n",
      " [9.7000000e+01 2.3240000e+03 9.4090000e+03 2.2542800e+05 5.4009760e+06]\n",
      " [9.7000000e+01 2.3020000e+03 9.4090000e+03 2.2329400e+05 5.2992040e+06]\n",
      " [1.5200000e+02 3.0950000e+03 2.3104000e+04 4.7044000e+05 9.5790250e+06]\n",
      " [1.5200000e+02 3.2960000e+03 2.3104000e+04 5.0099200e+05 1.0863616e+07]\n",
      " [1.5200000e+02 3.0600000e+03 2.3104000e+04 4.6512000e+05 9.3636000e+06]\n",
      " [1.6000000e+02 3.0710000e+03 2.5600000e+04 4.9136000e+05 9.4310410e+06]\n",
      " [2.0000000e+02 3.1390000e+03 4.0000000e+04 6.2780000e+05 9.8533210e+06]\n",
      " [1.6000000e+02 3.1390000e+03 2.5600000e+04 5.0224000e+05 9.8533210e+06]\n",
      " [9.7000000e+01 3.0200000e+03 9.4090000e+03 2.9294000e+05 9.1204000e+06]\n",
      " [9.5000000e+01 3.1970000e+03 9.0250000e+03 3.0371500e+05 1.0220809e+07]\n",
      " [9.7000000e+01 3.2300000e+03 9.4090000e+03 3.1331000e+05 1.0432900e+07]\n",
      " [9.5000000e+01 3.4300000e+03 9.0250000e+03 3.2585000e+05 1.1764900e+07]\n",
      " [9.5000000e+01 3.0750000e+03 9.0250000e+03 2.9212500e+05 9.4556250e+06]\n",
      " [9.5000000e+01 3.2520000e+03 9.0250000e+03 3.0894000e+05 1.0575504e+07]\n",
      " [9.5000000e+01 3.2850000e+03 9.0250000e+03 3.1207500e+05 1.0791225e+07]\n",
      " [9.5000000e+01 3.4850000e+03 9.0250000e+03 3.3107500e+05 1.2145225e+07]\n",
      " [9.7000000e+01 3.0750000e+03 9.4090000e+03 2.9827500e+05 9.4556250e+06]\n",
      " [9.5000000e+01 3.2520000e+03 9.0250000e+03 3.0894000e+05 1.0575504e+07]\n",
      " [1.4200000e+02 3.1300000e+03 2.0164000e+04 4.4446000e+05 9.7969000e+06]\n",
      " [6.8000000e+01 1.9180000e+03 4.6240000e+03 1.3042400e+05 3.6787240e+06]\n",
      " [1.0200000e+02 2.1280000e+03 1.0404000e+04 2.1705600e+05 4.5283840e+06]\n",
      " [6.8000000e+01 1.9670000e+03 4.6240000e+03 1.3375600e+05 3.8690890e+06]\n",
      " [6.8000000e+01 1.9890000e+03 4.6240000e+03 1.3525200e+05 3.9561210e+06]\n",
      " [6.8000000e+01 2.1910000e+03 4.6240000e+03 1.4898800e+05 4.8004810e+06]\n",
      " [8.8000000e+01 2.5350000e+03 7.7440000e+03 2.2308000e+05 6.4262250e+06]\n",
      " [1.4500000e+02 2.8180000e+03 2.1025000e+04 4.0861000e+05 7.9411240e+06]\n",
      " [1.4300000e+02 2.7780000e+03 2.0449000e+04 3.9725400e+05 7.7172840e+06]\n",
      " [2.0700000e+02 2.7560000e+03 4.2849000e+04 5.7049200e+05 7.5955360e+06]\n",
      " [2.0700000e+02 2.7560000e+03 4.2849000e+04 5.7049200e+05 7.5955360e+06]\n",
      " [2.0700000e+02 2.8000000e+03 4.2849000e+04 5.7960000e+05 7.8400000e+06]\n",
      " [1.1000000e+02 2.6580000e+03 1.2100000e+04 2.9238000e+05 7.0649640e+06]\n",
      " [1.1000000e+02 2.6950000e+03 1.2100000e+04 2.9645000e+05 7.2630250e+06]\n",
      " [1.1000000e+02 2.7070000e+03 1.2100000e+04 2.9777000e+05 7.3278490e+06]\n",
      " [1.1000000e+02 2.7580000e+03 1.2100000e+04 3.0338000e+05 7.6065640e+06]\n",
      " [1.6000000e+02 2.8080000e+03 2.5600000e+04 4.4928000e+05 7.8848640e+06]\n",
      " [1.6000000e+02 2.8470000e+03 2.5600000e+04 4.5552000e+05 8.1054090e+06]\n",
      " [6.9000000e+01 2.0500000e+03 4.7610000e+03 1.4145000e+05 4.2025000e+06]\n",
      " [7.3000000e+01 2.1200000e+03 5.3290000e+03 1.5476000e+05 4.4944000e+06]\n",
      " [7.3000000e+01 2.2400000e+03 5.3290000e+03 1.6352000e+05 5.0176000e+06]\n",
      " [8.2000000e+01 2.1450000e+03 6.7240000e+03 1.7589000e+05 4.6010250e+06]\n",
      " [8.2000000e+01 2.1900000e+03 6.7240000e+03 1.7958000e+05 4.7961000e+06]\n",
      " [9.4000000e+01 2.3400000e+03 8.8360000e+03 2.1996000e+05 5.4756000e+06]\n",
      " [8.2000000e+01 2.3850000e+03 6.7240000e+03 1.9557000e+05 5.6882250e+06]\n",
      " [1.1100000e+02 2.5100000e+03 1.2321000e+04 2.7861000e+05 6.3001000e+06]\n",
      " [8.2000000e+01 2.2900000e+03 6.7240000e+03 1.8778000e+05 5.2441000e+06]\n",
      " [9.4000000e+01 2.4550000e+03 8.8360000e+03 2.3077000e+05 6.0270250e+06]\n",
      " [8.2000000e+01 2.4200000e+03 6.7240000e+03 1.9844000e+05 5.8564000e+06]\n",
      " [1.1100000e+02 2.6500000e+03 1.2321000e+04 2.9415000e+05 7.0225000e+06]\n",
      " [6.2000000e+01 1.9850000e+03 3.8440000e+03 1.2307000e+05 3.9402250e+06]\n",
      " [6.2000000e+01 2.0400000e+03 3.8440000e+03 1.2648000e+05 4.1616000e+06]\n",
      " [6.2000000e+01 2.0150000e+03 3.8440000e+03 1.2493000e+05 4.0602250e+06]\n",
      " [6.2000000e+01 2.2800000e+03 3.8440000e+03 1.4136000e+05 5.1984000e+06]\n",
      " [6.2000000e+01 2.2900000e+03 3.8440000e+03 1.4198000e+05 5.2441000e+06]\n",
      " [6.2000000e+01 3.1100000e+03 3.8440000e+03 1.9282000e+05 9.6721000e+06]\n",
      " [7.0000000e+01 2.0810000e+03 4.9000000e+03 1.4567000e+05 4.3305610e+06]\n",
      " [7.0000000e+01 2.1090000e+03 4.9000000e+03 1.4763000e+05 4.4478810e+06]\n",
      " [5.6000000e+01 2.2750000e+03 3.1360000e+03 1.2740000e+05 5.1756250e+06]\n",
      " [5.6000000e+01 2.2750000e+03 3.1360000e+03 1.2740000e+05 5.1756250e+06]\n",
      " [7.0000000e+01 2.0940000e+03 4.9000000e+03 1.4658000e+05 4.3848360e+06]\n",
      " [7.0000000e+01 2.1220000e+03 4.9000000e+03 1.4854000e+05 4.5028840e+06]\n",
      " [7.0000000e+01 2.1400000e+03 4.9000000e+03 1.4980000e+05 4.5796000e+06]\n",
      " [7.0000000e+01 2.1690000e+03 4.9000000e+03 1.5183000e+05 4.7045610e+06]\n",
      " [7.0000000e+01 2.2040000e+03 4.9000000e+03 1.5428000e+05 4.8576160e+06]\n",
      " [1.1200000e+02 2.2650000e+03 1.2544000e+04 2.5368000e+05 5.1302250e+06]\n",
      " [1.1200000e+02 2.3000000e+03 1.2544000e+04 2.5760000e+05 5.2900000e+06]\n",
      " [1.1600000e+02 2.5400000e+03 1.3456000e+04 2.9464000e+05 6.4516000e+06]\n",
      " [1.1600000e+02 2.5360000e+03 1.3456000e+04 2.9417600e+05 6.4312960e+06]\n",
      " [1.1600000e+02 2.5510000e+03 1.3456000e+04 2.9591600e+05 6.5076010e+06]\n",
      " [1.1600000e+02 2.6790000e+03 1.3456000e+04 3.1076400e+05 7.1770410e+06]\n",
      " [1.1600000e+02 2.7140000e+03 1.3456000e+04 3.1482400e+05 7.3657960e+06]\n",
      " [1.1600000e+02 2.9750000e+03 1.3456000e+04 3.4510000e+05 8.8506250e+06]\n",
      " [9.2000000e+01 2.3260000e+03 8.4640000e+03 2.1399200e+05 5.4102760e+06]\n",
      " [7.3000000e+01 2.4800000e+03 5.3290000e+03 1.8104000e+05 6.1504000e+06]\n",
      " [9.2000000e+01 2.4140000e+03 8.4640000e+03 2.2208800e+05 5.8273960e+06]\n",
      " [9.2000000e+01 2.4140000e+03 8.4640000e+03 2.2208800e+05 5.8273960e+06]\n",
      " [9.2000000e+01 2.4580000e+03 8.4640000e+03 2.2613600e+05 6.0417640e+06]\n",
      " [1.6100000e+02 2.9760000e+03 2.5921000e+04 4.7913600e+05 8.8565760e+06]\n",
      " [1.6100000e+02 3.0160000e+03 2.5921000e+04 4.8557600e+05 9.0962560e+06]\n",
      " [1.5600000e+02 3.1310000e+03 2.4336000e+04 4.8843600e+05 9.8031610e+06]\n",
      " [1.5600000e+02 3.1510000e+03 2.4336000e+04 4.9155600e+05 9.9288010e+06]\n",
      " [5.2000000e+01 2.2610000e+03 2.7040000e+03 1.1757200e+05 5.1121210e+06]\n",
      " [8.5000000e+01 2.2090000e+03 7.2250000e+03 1.8776500e+05 4.8796810e+06]\n",
      " [5.2000000e+01 2.2640000e+03 2.7040000e+03 1.1772800e+05 5.1256960e+06]\n",
      " [8.5000000e+01 2.2120000e+03 7.2250000e+03 1.8802000e+05 4.8929440e+06]\n",
      " [8.5000000e+01 2.2750000e+03 7.2250000e+03 1.9337500e+05 5.1756250e+06]\n",
      " [6.8000000e+01 2.3190000e+03 4.6240000e+03 1.5769200e+05 5.3777610e+06]\n",
      " [1.0000000e+02 2.3000000e+03 1.0000000e+04 2.3000000e+05 5.2900000e+06]\n",
      " [9.0000000e+01 2.2540000e+03 8.1000000e+03 2.0286000e+05 5.0805160e+06]\n",
      " [9.0000000e+01 2.2210000e+03 8.1000000e+03 1.9989000e+05 4.9328410e+06]\n",
      " [1.1000000e+02 2.6610000e+03 1.2100000e+04 2.9271000e+05 7.0809210e+06]\n",
      " [6.8000000e+01 2.5790000e+03 4.6240000e+03 1.7537200e+05 6.6512410e+06]\n",
      " [8.8000000e+01 2.5630000e+03 7.7440000e+03 2.2554400e+05 6.5689690e+06]\n",
      " [1.1400000e+02 2.9120000e+03 1.2996000e+04 3.3196800e+05 8.4797440e+06]\n",
      " [1.1400000e+02 3.0340000e+03 1.2996000e+04 3.4587600e+05 9.2051560e+06]\n",
      " [1.1400000e+02 2.9350000e+03 1.2996000e+04 3.3459000e+05 8.6142250e+06]\n",
      " [1.1400000e+02 3.0420000e+03 1.2996000e+04 3.4678800e+05 9.2537640e+06]\n",
      " [1.6200000e+02 3.0450000e+03 2.6244000e+04 4.9329000e+05 9.2720250e+06]\n",
      " [1.6200000e+02 3.1570000e+03 2.6244000e+04 5.1143400e+05 9.9666490e+06]\n",
      " [1.1400000e+02 2.9520000e+03 1.2996000e+04 3.3652800e+05 8.7143040e+06]\n",
      " [1.6000000e+02 3.0490000e+03 2.5600000e+04 4.8784000e+05 9.2964010e+06]\n",
      " [1.3400000e+02 3.0120000e+03 1.7956000e+04 4.0360800e+05 9.0721440e+06]\n",
      " [1.0600000e+02 3.2170000e+03 1.1236000e+04 3.4100200e+05 1.0349089e+07]\n",
      " [1.1400000e+02 3.0620000e+03 1.2996000e+04 3.4906800e+05 9.3758440e+06]]\n"
     ]
    }
   ],
   "source": [
    "from sklearn.preprocessing import PolynomialFeatures\n",
    "\n",
    "pr = PolynomialFeatures(degree = 2, include_bias = False)\n",
    "\n",
    "X = df[[\"horsepower\",\"curb-weight\", \"engine-size\", \"highway-mpg\"]]\n",
    "\n",
    "x_polly = pr.fit_transform(X.loc[:, [\"horsepower\", \"curb-weight\"]])\n",
    "\n",
    "print(x_polly)"
   ]
  },
  {
   "cell_type": "markdown",
   "id": "8f79a0af",
   "metadata": {},
   "source": [
    "x_polly is the transformed feature matrix obtained after applying polynomial transformation to the original features. It represents the input data with additional polynomial features, allowing for more flexible modeling of the relationship between the features and the target variable.\n",
    "\n",
    "We use x_polly to capture non-linear relationships between the features and the target variable. By introducing polynomial features, we can fit polynomial regression models that can better capture complex patterns in the data. This can be particularly useful when the relationship between the features and the target variable is not strictly linear.\n",
    "\n",
    "In summary, x_polly is used as the input data for modeling purposes, allowing us to explore and capture non-linear relationships between the features and the target variable.\n",
    "\n",
    "\n",
    "### Pre-processing\n",
    "\n",
    "We can Normalize each feature simultaneously "
   ]
  },
  {
   "cell_type": "code",
   "execution_count": 122,
   "id": "3b5fbd93",
   "metadata": {},
   "outputs": [],
   "source": [
    "from sklearn.preprocessing import StandardScaler\n",
    "\n",
    "SCALE = StandardScaler()\n",
    "\n",
    "x_data = df[[\"horsepower\",\"curb-weight\", \"engine-size\", \"highway-mpg\"]]\n",
    "\n",
    "SCALE.fit(x_data[[\"horsepower\", \"highway-mpg\"]])\n",
    "\n",
    "x_scale = SCALE.transform(x_data[[\"horsepower\", \"highway-mpg\"]])"
   ]
  },
  {
   "cell_type": "markdown",
   "id": "510279b5",
   "metadata": {},
   "source": [
    "## Pipelines\n",
    "\n",
    "Normalization & Polynomial transform"
   ]
  },
  {
   "cell_type": "code",
   "execution_count": 123,
   "id": "64e729bd",
   "metadata": {},
   "outputs": [],
   "source": [
    "from sklearn.preprocessing import PolynomialFeatures\n",
    "\n",
    "from sklearn.linear_model import LinearRegression\n",
    "\n",
    "from sklearn.preprocessing import StandardScaler\n",
    "\n",
    "from sklearn.pipeline import Pipeline\n",
    "\n"
   ]
  },
  {
   "cell_type": "markdown",
   "id": "7f931a70",
   "metadata": {},
   "source": [
    "### Pipeline constructor\n"
   ]
  },
  {
   "cell_type": "code",
   "execution_count": 124,
   "id": "6f5f4234",
   "metadata": {},
   "outputs": [],
   "source": [
    "Input = [(\"scale\", StandardScaler()), \n",
    "         (\"polynomial\", PolynomialFeatures(degree = 2)),\n",
    "         (\"mode\", LinearRegression())]\n",
    "\n",
    "Y = df[\"price\"]\n",
    "\n",
    "Pipe = Pipeline(Input)\n",
    "\n",
    "Pipe.fit(x_data, Y)\n",
    "\n",
    "yhat = Pipe.predict(x_data)\n"
   ]
  },
  {
   "cell_type": "markdown",
   "id": "61f31d82",
   "metadata": {},
   "source": [
    "## Measures for In-Sample Evaluation\n",
    "How good the model fits on a dataset\n",
    "Two important measures\n",
    "+ Mean Squared Error(MSE)\n",
    "+ R-Squared(R^2)\n",
    "\n",
    "### Mean-Squared-Error"
   ]
  },
  {
   "cell_type": "code",
   "execution_count": 125,
   "id": "65ef8afe",
   "metadata": {},
   "outputs": [
    {
     "data": {
      "text/plain": [
       "11941505.191703446"
      ]
     },
     "execution_count": 125,
     "metadata": {},
     "output_type": "execute_result"
    }
   ],
   "source": [
    "from sklearn.metrics import mean_squared_error\n",
    "\n",
    "lm = LinearRegression()\n",
    "\n",
    "Z = df[[\"horsepower\",\"curb-weight\", \"engine-size\", \"highway-mpg\"]]\n",
    "\n",
    "Y = df[\"price\"]\n",
    "\n",
    "lm.fit(Z, df[\"price\"])\n",
    "\n",
    "Y_predict_simple_fit = lm.predict(Z)\n",
    "\n",
    "\n",
    "mean_squared_error(df[\"price\"], Y_predict_simple_fit)"
   ]
  },
  {
   "cell_type": "markdown",
   "id": "733d10ce",
   "metadata": {},
   "source": [
    "### R-Squared\n",
    "+ The coefficient of determination or R-squared is a meassure to determine how close the data is to fitted regression line\n"
   ]
  },
  {
   "cell_type": "code",
   "execution_count": 129,
   "id": "0d4025f6",
   "metadata": {},
   "outputs": [
    {
     "data": {
      "text/plain": [
       "0.4973491560296689"
      ]
     },
     "execution_count": 129,
     "metadata": {},
     "output_type": "execute_result"
    }
   ],
   "source": [
    "X = df[[\"highway-mpg\"]]\n",
    "Y = df[\"price\"]\n",
    "\n",
    "lm.fit(X,Y)\n",
    "\n",
    "lm.score(X,Y)"
   ]
  },
  {
   "cell_type": "markdown",
   "id": "c48b3929",
   "metadata": {},
   "source": [
    "## Prediction & Decition making\n",
    "\n",
    "To determine best fit, we look at a combination of:\n",
    "+ Do the predicted values make sense\n",
    "+ Visualization\n",
    "+ Numerical measures for evaluation\n",
    "+ Comparing models\n",
    "\n",
    "1) First we train the model"
   ]
  },
  {
   "cell_type": "code",
   "execution_count": 143,
   "id": "878656d9",
   "metadata": {},
   "outputs": [
    {
     "name": "stderr",
     "output_type": "stream",
     "text": [
      "C:\\Users\\julio\\anaconda3\\lib\\site-packages\\sklearn\\base.py:420: UserWarning: X does not have valid feature names, but LinearRegression was fitted with feature names\n",
      "  warnings.warn(\n"
     ]
    },
    {
     "data": {
      "text/plain": [
       "array([13804.86252368])"
      ]
     },
     "execution_count": 143,
     "metadata": {},
     "output_type": "execute_result"
    }
   ],
   "source": [
    "X = df[[\"highway-mpg\"]]\n",
    "Y = df[\"price\"]\n",
    "\n",
    "\n",
    "lm.fit(X,Y)\n",
    "\n",
    "lm.predict(np.array(30).reshape(-1,1))"
   ]
  },
  {
   "cell_type": "code",
   "execution_count": null,
   "id": "13515dc7",
   "metadata": {},
   "outputs": [],
   "source": []
  },
  {
   "cell_type": "code",
   "execution_count": null,
   "id": "f78382a4",
   "metadata": {},
   "outputs": [],
   "source": []
  },
  {
   "cell_type": "code",
   "execution_count": null,
   "id": "045059b8",
   "metadata": {},
   "outputs": [],
   "source": []
  },
  {
   "cell_type": "code",
   "execution_count": null,
   "id": "6f807622",
   "metadata": {},
   "outputs": [],
   "source": []
  }
 ],
 "metadata": {
  "kernelspec": {
   "display_name": "Python 3 (ipykernel)",
   "language": "python",
   "name": "python3"
  },
  "language_info": {
   "codemirror_mode": {
    "name": "ipython",
    "version": 3
   },
   "file_extension": ".py",
   "mimetype": "text/x-python",
   "name": "python",
   "nbconvert_exporter": "python",
   "pygments_lexer": "ipython3",
   "version": "3.10.9"
  }
 },
 "nbformat": 4,
 "nbformat_minor": 5
}
